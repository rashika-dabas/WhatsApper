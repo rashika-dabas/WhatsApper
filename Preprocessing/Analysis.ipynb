{
 "cells": [
  {
   "cell_type": "code",
   "execution_count": null,
   "id": "f8abd775",
   "metadata": {},
   "outputs": [],
   "source": [
    "import pandas as pd\n",
    "import numpy as np"
   ]
  },
  {
   "cell_type": "code",
   "execution_count": null,
   "id": "351d183c",
   "metadata": {},
   "outputs": [],
   "source": [
    "## 'r' -> to read\n",
    "f = open('Minerskape.txt', 'r', encoding = 'utf-8')"
   ]
  },
  {
   "cell_type": "code",
   "execution_count": null,
   "id": "12c0f072",
   "metadata": {},
   "outputs": [],
   "source": [
    "data = f.read()"
   ]
  },
  {
   "cell_type": "code",
   "execution_count": null,
   "id": "87afce14",
   "metadata": {},
   "outputs": [],
   "source": [
    "print(data)"
   ]
  },
  {
   "cell_type": "code",
   "execution_count": null,
   "id": "c7024f26",
   "metadata": {},
   "outputs": [],
   "source": [
    "# Refer regex101 for using regular expression\n",
    "import re"
   ]
  },
  {
   "cell_type": "code",
   "execution_count": null,
   "id": "eecdb113",
   "metadata": {},
   "outputs": [],
   "source": [
    "pattern = '\\d{1,2}/\\d{1,2}/\\d{2,4},\\s\\d{1,2}:\\d{2}\\s-\\s'"
   ]
  },
  {
   "cell_type": "code",
   "execution_count": null,
   "id": "59bfe9de",
   "metadata": {},
   "outputs": [],
   "source": [
    "# To have data splitted according to dates from text\n",
    "# [1:] to remove first empty element\n",
    "message = re.split(pattern, data)[1:]\n",
    "len(message)"
   ]
  },
  {
   "cell_type": "code",
   "execution_count": null,
   "id": "3dd70388",
   "metadata": {},
   "outputs": [],
   "source": [
    "print(message)"
   ]
  },
  {
   "cell_type": "code",
   "execution_count": null,
   "id": "0c4ad5d6",
   "metadata": {},
   "outputs": [],
   "source": [
    "# To filter dates from text\n",
    "dates = re.findall(pattern, data)\n",
    "len(dates)"
   ]
  },
  {
   "cell_type": "code",
   "execution_count": null,
   "id": "27ef0213",
   "metadata": {},
   "outputs": [],
   "source": [
    "print(dates)"
   ]
  },
  {
   "cell_type": "code",
   "execution_count": null,
   "id": "884804fc",
   "metadata": {},
   "outputs": [],
   "source": [
    "df = pd.DataFrame({'user_message':message,'date':dates})\n",
    "df['date'] = pd.to_datetime(df['date'], format = '%d/%m/%y, %H:%M - ')\n",
    "df.head(10)"
   ]
  },
  {
   "cell_type": "code",
   "execution_count": null,
   "id": "ad098c72",
   "metadata": {},
   "outputs": [],
   "source": [
    "# Identifying the user\n",
    "user = []\n",
    "messages = []\n",
    "for chat in df['user_message']:\n",
    "    if ':' in chat:\n",
    "        entry = re.split('([\\w\\W]+?):\\s',chat)\n",
    "        user.append(entry[1])\n",
    "        messages.append(entry[2])\n",
    "    else:\n",
    "        user.append('group notification')\n",
    "        messages.append(chat)\n",
    "df['user_message'] = messages\n",
    "df['user'] = user"
   ]
  },
  {
   "cell_type": "code",
   "execution_count": null,
   "id": "610bc69f",
   "metadata": {},
   "outputs": [],
   "source": [
    "df"
   ]
  },
  {
   "cell_type": "markdown",
   "id": "58b49b4b",
   "metadata": {},
   "source": [
    "## Identifying Year, Month, Day, Hour and Minute of message"
   ]
  },
  {
   "cell_type": "code",
   "execution_count": null,
   "id": "e223420c",
   "metadata": {},
   "outputs": [],
   "source": [
    "df['year'] = df['date'].dt.year"
   ]
  },
  {
   "cell_type": "code",
   "execution_count": null,
   "id": "d4a86a1f",
   "metadata": {},
   "outputs": [],
   "source": [
    "df['month'] = df['date'].dt.month_name()"
   ]
  },
  {
   "cell_type": "code",
   "execution_count": null,
   "id": "4f1c3e92",
   "metadata": {},
   "outputs": [],
   "source": [
    "df['day'] = df['date'].dt.day"
   ]
  },
  {
   "cell_type": "code",
   "execution_count": null,
   "id": "da29ed1a",
   "metadata": {},
   "outputs": [],
   "source": [
    "df['hour'] = df['date'].dt.hour"
   ]
  },
  {
   "cell_type": "code",
   "execution_count": null,
   "id": "830ea077",
   "metadata": {},
   "outputs": [],
   "source": [
    "df['minute'] = df['date'].dt.minute"
   ]
  },
  {
   "cell_type": "code",
   "execution_count": null,
   "id": "ee663614",
   "metadata": {},
   "outputs": [],
   "source": [
    "df"
   ]
  },
  {
   "cell_type": "code",
   "execution_count": null,
   "id": "87f7f53b",
   "metadata": {},
   "outputs": [],
   "source": [
    "df.shape"
   ]
  },
  {
   "cell_type": "code",
   "execution_count": null,
   "id": "f54ca329",
   "metadata": {},
   "outputs": [],
   "source": [
    "# Number of messages sent by 'Mayank Cu'\n",
    "df[df['user'] == 'Mayank Cu'].shape[0]"
   ]
  },
  {
   "cell_type": "code",
   "execution_count": null,
   "id": "983926a2",
   "metadata": {},
   "outputs": [],
   "source": [
    "# Storing the messages word by word in a list\n",
    "# message.split() will give a list\n",
    "# append will exactly copy the given list but extend will copy the elements of list\n",
    "# extend and append are same when we do not pass a collection\n",
    "words = []\n",
    "for message in df['user_message']:\n",
    "    words.extend(message.split())"
   ]
  },
  {
   "cell_type": "code",
   "execution_count": null,
   "id": "77f47867",
   "metadata": {},
   "outputs": [],
   "source": [
    "len(words)"
   ]
  },
  {
   "cell_type": "code",
   "execution_count": null,
   "id": "e6165c1f",
   "metadata": {},
   "outputs": [],
   "source": [
    "words"
   ]
  },
  {
   "cell_type": "code",
   "execution_count": null,
   "id": "eefa858e",
   "metadata": {},
   "outputs": [],
   "source": [
    "## Identifying the media messages\n",
    "df[df['user_message'] == \"<Media omitted>\\n\"].shape[0]"
   ]
  },
  {
   "cell_type": "markdown",
   "id": "c2c1d27f",
   "metadata": {},
   "source": [
    "# !pip install urlextract"
   ]
  },
  {
   "cell_type": "code",
   "execution_count": null,
   "id": "ba311f56",
   "metadata": {},
   "outputs": [],
   "source": [
    "from urlextract import URLExtract\n",
    "extractor = URLExtract()"
   ]
  },
  {
   "cell_type": "code",
   "execution_count": null,
   "id": "e8110de6",
   "metadata": {},
   "outputs": [],
   "source": [
    "## Identifying the links\n",
    "links =[]\n",
    "for message in df['user_message']:\n",
    "    links.extend(extractor.find_urls(message))\n",
    "len(links)"
   ]
  },
  {
   "cell_type": "code",
   "execution_count": null,
   "id": "3610a4bd",
   "metadata": {},
   "outputs": [],
   "source": [
    "## Finding and plotting count of each user\n",
    "x = df['user'].value_counts().head()"
   ]
  },
  {
   "cell_type": "code",
   "execution_count": null,
   "id": "33ee802f",
   "metadata": {},
   "outputs": [],
   "source": [
    "import matplotlib.pyplot as plt"
   ]
  },
  {
   "cell_type": "code",
   "execution_count": null,
   "id": "e7d23e08",
   "metadata": {},
   "outputs": [],
   "source": [
    "name = x.index\n",
    "count = x.values"
   ]
  },
  {
   "cell_type": "code",
   "execution_count": null,
   "id": "36ddfaaa",
   "metadata": {},
   "outputs": [],
   "source": [
    "plt.bar(name, count)\n",
    "plt.xticks(rotation = 'vertical')"
   ]
  },
  {
   "cell_type": "code",
   "execution_count": null,
   "id": "ef68d0b9",
   "metadata": {},
   "outputs": [],
   "source": [
    "df['user'].value_counts()"
   ]
  },
  {
   "cell_type": "code",
   "execution_count": null,
   "id": "31f65439",
   "metadata": {},
   "outputs": [],
   "source": [
    "## Finding the most active user via percentage of messages sent\n",
    "round((df['user'].value_counts()/df.shape[0]) * 100,2).reset_index().rename(columns = {'user': 'Name', 'count': 'Percentage'})"
   ]
  },
  {
   "cell_type": "code",
   "execution_count": null,
   "id": "21c67965",
   "metadata": {},
   "outputs": [],
   "source": [
    "## Finding the most frequent words\n",
    "from collections import Counter\n",
    "pd.DataFrame(Counter(words).most_common(20)).rename(columns = {0: 'Word', 1: 'Count'})"
   ]
  },
  {
   "cell_type": "markdown",
   "id": "2a81b5a5",
   "metadata": {},
   "source": [
    "## Identifying messages with no user, media omitted and deleted message"
   ]
  },
  {
   "cell_type": "code",
   "execution_count": null,
   "id": "1a01bfad",
   "metadata": {},
   "outputs": [],
   "source": [
    "df1= df[df['user']!='group notification']"
   ]
  },
  {
   "cell_type": "code",
   "execution_count": null,
   "id": "f5da9edb",
   "metadata": {},
   "outputs": [],
   "source": [
    "df2=df1[df1['user_message']!= '<Media omitted>\\n']"
   ]
  },
  {
   "cell_type": "code",
   "execution_count": null,
   "id": "73de247f",
   "metadata": {},
   "outputs": [],
   "source": [
    "temp = df2[df2['user_message'] != 'This message was deleted\\n']"
   ]
  },
  {
   "cell_type": "code",
   "execution_count": null,
   "id": "67316ff9",
   "metadata": {},
   "outputs": [],
   "source": [
    "temp"
   ]
  },
  {
   "cell_type": "markdown",
   "id": "215851d0",
   "metadata": {},
   "source": [
    "## Removing stopwords from user messages and identifying admin messages"
   ]
  },
  {
   "cell_type": "code",
   "execution_count": null,
   "id": "1d4dd914",
   "metadata": {},
   "outputs": [],
   "source": [
    "f = open('stop_hinglish.txt','r')\n",
    "stop_words = f.read()\n",
    "print(stop_words)"
   ]
  },
  {
   "cell_type": "code",
   "execution_count": null,
   "id": "bd71f700",
   "metadata": {},
   "outputs": [],
   "source": [
    "len(stop_words)"
   ]
  },
  {
   "cell_type": "code",
   "execution_count": null,
   "id": "138e4505",
   "metadata": {},
   "outputs": [],
   "source": [
    "words = []\n",
    "for message in temp['user_message']:\n",
    "    for word in message.lower().split():\n",
    "        if word not in stop_words:\n",
    "            if word == '@917506941616':\n",
    "                words.append('admin tagged')\n",
    "            else:\n",
    "                words.append(word)"
   ]
  },
  {
   "cell_type": "code",
   "execution_count": null,
   "id": "08359cb6",
   "metadata": {},
   "outputs": [],
   "source": [
    "words"
   ]
  },
  {
   "cell_type": "code",
   "execution_count": null,
   "id": "d8a70484",
   "metadata": {},
   "outputs": [],
   "source": [
    "len(words)"
   ]
  },
  {
   "cell_type": "code",
   "execution_count": null,
   "id": "fd0148ba",
   "metadata": {},
   "outputs": [],
   "source": [
    "from collections import Counter\n",
    "pd.DataFrame(Counter(words).most_common(20))"
   ]
  },
  {
   "cell_type": "markdown",
   "id": "6300afc2",
   "metadata": {},
   "source": [
    "## Finding emojis in user messages"
   ]
  },
  {
   "cell_type": "markdown",
   "id": "8b5fcd5a",
   "metadata": {},
   "source": [
    "# !pip install emoji"
   ]
  },
  {
   "cell_type": "code",
   "execution_count": null,
   "id": "adc6d403",
   "metadata": {},
   "outputs": [],
   "source": [
    "import emoji"
   ]
  },
  {
   "cell_type": "code",
   "execution_count": null,
   "id": "9d8e3484",
   "metadata": {},
   "outputs": [],
   "source": [
    "## emoji's code -> emoji's unicode data -> number for machine and symbol for human\n",
    "emojis = []\n",
    "for i in df['user_message']:\n",
    "    emojis.extend([c for c in i if c in emoji.EMOJI_DATA])"
   ]
  },
  {
   "cell_type": "code",
   "execution_count": null,
   "id": "bf557e50",
   "metadata": {},
   "outputs": [],
   "source": [
    "emojis"
   ]
  },
  {
   "cell_type": "code",
   "execution_count": null,
   "id": "3ece9530",
   "metadata": {},
   "outputs": [],
   "source": [
    "pd.DataFrame(Counter(emojis).most_common(len(Counter(emojis)))).rename(columns = {0: 'Emoji', 1: 'Count'})"
   ]
  },
  {
   "cell_type": "code",
   "execution_count": null,
   "id": "b0b132c0",
   "metadata": {},
   "outputs": [],
   "source": [
    "df"
   ]
  },
  {
   "cell_type": "code",
   "execution_count": null,
   "id": "47ab9029",
   "metadata": {},
   "outputs": [],
   "source": [
    "# Adding month number\n",
    "df['month_num'] = df['date'].dt.month"
   ]
  },
  {
   "cell_type": "code",
   "execution_count": null,
   "id": "d859abab",
   "metadata": {},
   "outputs": [],
   "source": [
    "df"
   ]
  },
  {
   "cell_type": "markdown",
   "id": "693e4dff",
   "metadata": {},
   "source": [
    "## Plotting timeline for user messages"
   ]
  },
  {
   "cell_type": "code",
   "execution_count": null,
   "id": "746e2e71",
   "metadata": {},
   "outputs": [],
   "source": [
    "timeline = df.groupby(['year','month','month_num']).count()['user_message'].reset_index()"
   ]
  },
  {
   "cell_type": "code",
   "execution_count": null,
   "id": "2b9b9637",
   "metadata": {},
   "outputs": [],
   "source": [
    "timeline"
   ]
  },
  {
   "cell_type": "code",
   "execution_count": null,
   "id": "02edc8aa",
   "metadata": {},
   "outputs": [],
   "source": [
    "time =[]\n",
    "for i in range(timeline.shape[0]):\n",
    "    time.append(timeline['month'][i] + \" - \" + str(timeline['year'][i]))"
   ]
  },
  {
   "cell_type": "code",
   "execution_count": null,
   "id": "3e0a4883",
   "metadata": {},
   "outputs": [],
   "source": [
    "time"
   ]
  },
  {
   "cell_type": "code",
   "execution_count": null,
   "id": "e4fe57cc",
   "metadata": {},
   "outputs": [],
   "source": [
    "timeline['time'] = time"
   ]
  },
  {
   "cell_type": "code",
   "execution_count": null,
   "id": "53be8789",
   "metadata": {},
   "outputs": [],
   "source": [
    "timeline"
   ]
  },
  {
   "cell_type": "code",
   "execution_count": null,
   "id": "2199fd53",
   "metadata": {},
   "outputs": [],
   "source": [
    "# group based on year and then sort based on month number\n",
    "timeline1 = timeline[timeline['year']==2021].sort_values('month_num').reset_index(drop=True)\n",
    "timeline2 = timeline[timeline['year']==2022].sort_values('month_num').reset_index(drop=True)\n",
    "timeline = pd.concat([timeline1,timeline2],axis=0)\n",
    "timeline"
   ]
  },
  {
   "cell_type": "code",
   "execution_count": null,
   "id": "91920dd8",
   "metadata": {},
   "outputs": [],
   "source": [
    "plt.plot(timeline['time'], timeline['user_message'])\n",
    "plt.xticks(rotation='vertical')\n",
    "plt.show()"
   ]
  },
  {
   "cell_type": "markdown",
   "id": "e2b97abc",
   "metadata": {},
   "source": [
    "## Filtering user messages by date only"
   ]
  },
  {
   "cell_type": "code",
   "execution_count": null,
   "id": "77a0774a",
   "metadata": {},
   "outputs": [],
   "source": [
    "df['only_date'] = df['date'].dt.date"
   ]
  },
  {
   "cell_type": "code",
   "execution_count": null,
   "id": "ae48bd42",
   "metadata": {},
   "outputs": [],
   "source": [
    "df"
   ]
  },
  {
   "cell_type": "code",
   "execution_count": null,
   "id": "a2fc2ebc",
   "metadata": {},
   "outputs": [],
   "source": [
    "timeline_date = df.groupby('only_date').count()['user_message'].reset_index()"
   ]
  },
  {
   "cell_type": "code",
   "execution_count": null,
   "id": "59738428",
   "metadata": {},
   "outputs": [],
   "source": [
    "timeline_date"
   ]
  },
  {
   "cell_type": "code",
   "execution_count": null,
   "id": "cc45be52",
   "metadata": {},
   "outputs": [],
   "source": []
  }
 ],
 "metadata": {
  "kernelspec": {
   "display_name": "Python 3 (ipykernel)",
   "language": "python",
   "name": "python3"
  },
  "language_info": {
   "codemirror_mode": {
    "name": "ipython",
    "version": 3
   },
   "file_extension": ".py",
   "mimetype": "text/x-python",
   "name": "python",
   "nbconvert_exporter": "python",
   "pygments_lexer": "ipython3",
   "version": "3.9.12"
  }
 },
 "nbformat": 4,
 "nbformat_minor": 5
}
